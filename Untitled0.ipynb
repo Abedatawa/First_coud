{
  "nbformat": 4,
  "nbformat_minor": 0,
  "metadata": {
    "colab": {
      "provenance": [],
      "authorship_tag": "ABX9TyOFs16sTIFBIFfoI3GuAwlH",
      "include_colab_link": true
    },
    "kernelspec": {
      "name": "python3",
      "display_name": "Python 3"
    },
    "language_info": {
      "name": "python"
    }
  },
  "cells": [
    {
      "cell_type": "markdown",
      "metadata": {
        "id": "view-in-github",
        "colab_type": "text"
      },
      "source": [
        "<a href=\"https://colab.research.google.com/github/Abedatawa/First_coud/blob/main/Untitled0.ipynb\" target=\"_parent\"><img src=\"https://colab.research.google.com/assets/colab-badge.svg\" alt=\"Open In Colab\"/></a>"
      ]
    },
    {
      "cell_type": "code",
      "execution_count": null,
      "metadata": {
        "colab": {
          "base_uri": "https://localhost:8080/"
        },
        "id": "Z2jZQusNegY7",
        "outputId": "1a755629-0825-4323-9bfb-c206751fe7b5"
      },
      "outputs": [
        {
          "output_type": "stream",
          "name": "stdout",
          "text": [
            "sum: 15\n",
            "Difference: 5\n",
            "Porduct: 50\n",
            "Division: 2.0\n"
          ]
        }
      ],
      "source": [
        "a = 10\n",
        "b = 5\n",
        "sum = a+b\n",
        "difference = a-b\n",
        "porduct = a*b\n",
        "division = a/b\n",
        "\n",
        "print(\"sum:\", sum)\n",
        "print(\"Difference:\", difference)\n",
        "print(\"Porduct:\", porduct)\n",
        "print(\"Division:\", division)\n",
        "\n"
      ]
    },
    {
      "cell_type": "code",
      "source": [
        "print(f\"The sum of the low numbers{a}, {b}, is {sum}\")"
      ],
      "metadata": {
        "colab": {
          "base_uri": "https://localhost:8080/"
        },
        "id": "GN7bZ_OKix8w",
        "outputId": "b9ebc5cd-8c41-4175-db6d-499bbad786a2"
      },
      "execution_count": null,
      "outputs": [
        {
          "output_type": "stream",
          "name": "stdout",
          "text": [
            "The sum of the low numbers10, 5, is 15\n"
          ]
        }
      ]
    },
    {
      "cell_type": "code",
      "source": [
        "x=13//2\n",
        "print(x)\n",
        "y = 13%2\n",
        "print(y)"
      ],
      "metadata": {
        "colab": {
          "base_uri": "https://localhost:8080/"
        },
        "id": "qwSny3AYkJ3s",
        "outputId": "f7b33f85-5387-471d-dcd4-89ea20210969"
      },
      "execution_count": null,
      "outputs": [
        {
          "output_type": "stream",
          "name": "stdout",
          "text": [
            "6\n",
            "1\n"
          ]
        }
      ]
    },
    {
      "cell_type": "code",
      "source": [
        "x = 10\n",
        "y = 5\n",
        "\n",
        "is_greater = x>y\n",
        "is_equal = x==y\n",
        "is_not_equal = x !=y\n",
        "\n",
        "\n",
        "print(\"Is x greater than y?\",is_greater)\n",
        "print(\"Is x equal y?\",is_equal)\n",
        "print(\"Is x not equal to y?\",is_not_equal)\n",
        "\n"
      ],
      "metadata": {
        "colab": {
          "base_uri": "https://localhost:8080/"
        },
        "id": "4ypv3Ka-mAzX",
        "outputId": "cb5a76da-7c1b-43ae-d31c-f160fbe60f7e"
      },
      "execution_count": null,
      "outputs": [
        {
          "output_type": "stream",
          "name": "stdout",
          "text": [
            "Is x greater than y? True\n",
            "Is x equal y? False\n",
            "Is x not equal to y? True\n"
          ]
        }
      ]
    },
    {
      "cell_type": "code",
      "source": [
        "# Variable assingment\n",
        "name = \"Alaa\"\n",
        "age = 55\n",
        "is_professor = True\n",
        "\n",
        "print(f\"{name}'s age is{age}.He is a frofessor is {is_professor}\")\n",
        "\n"
      ],
      "metadata": {
        "colab": {
          "base_uri": "https://localhost:8080/"
        },
        "id": "bJUXIe4usG_X",
        "outputId": "f346ff50-6cbb-4696-ecae-14e8cfbff2b4"
      },
      "execution_count": null,
      "outputs": [
        {
          "output_type": "stream",
          "name": "stdout",
          "text": [
            "Alaa's age is55.He is a frofessor is True\n"
          ]
        }
      ]
    },
    {
      "cell_type": "code",
      "source": [
        "#Defining and using a function\n",
        "def greet(name):\n",
        "  return \"Hello,\"+ name + \"!\"\n",
        "\n",
        "my_name = input(\"Enter your name:\")\n",
        "greet(my_name)"
      ],
      "metadata": {
        "colab": {
          "base_uri": "https://localhost:8080/",
          "height": 53
        },
        "id": "XPBjxj-jxue1",
        "outputId": "23a5c715-561c-4d49-ad7e-86b7960990d6"
      },
      "execution_count": null,
      "outputs": [
        {
          "name": "stdout",
          "output_type": "stream",
          "text": [
            "Enter your name:Alaa\n"
          ]
        },
        {
          "output_type": "execute_result",
          "data": {
            "text/plain": [
              "'Hello,Alaa!'"
            ],
            "application/vnd.google.colaboratory.intrinsic+json": {
              "type": "string"
            }
          },
          "metadata": {},
          "execution_count": 42
        }
      ]
    },
    {
      "cell_type": "code",
      "source": [
        "def add_numbers(a,b):\n",
        " return a+b\n",
        "\n",
        "a =int(input(\"Enter first number:\"))\n",
        "b =int(input(\"Enter second number\"))\n",
        "\n",
        "\n",
        "addition_value= add_numbers(a,b)\n",
        "print(f\"The result of addition for{a}, {b} is{addition_value}\")"
      ],
      "metadata": {
        "colab": {
          "base_uri": "https://localhost:8080/"
        },
        "id": "4KWZHYtK_rKN",
        "outputId": "bad05c31-2a1f-436a-994e-b0d227dd86aa"
      },
      "execution_count": null,
      "outputs": [
        {
          "output_type": "stream",
          "name": "stdout",
          "text": [
            "Enter first number:2\n",
            "Enter second number3\n",
            "The result of addition for2, 3 is5\n"
          ]
        }
      ]
    },
    {
      "cell_type": "code",
      "source": [
        "def add_numbers(a,b):\n",
        " return a+b\n",
        "\n",
        "a =eval(input(\"Enter first number:\"))\n",
        "b =eval(input(\"Enter second number:\"))\n",
        "\n",
        "\n",
        "addition_value= add_numbers(a,b)\n",
        "print(f\"The result of addition for{a}, {b} is{addition_value}\")"
      ],
      "metadata": {
        "colab": {
          "base_uri": "https://localhost:8080/"
        },
        "id": "PJwIcDaI_3gn",
        "outputId": "ea9e2686-a3d8-46e8-f7f2-5283f671a9ec"
      },
      "execution_count": null,
      "outputs": [
        {
          "output_type": "stream",
          "name": "stdout",
          "text": [
            "Enter first number:-4.5\n",
            "Enter second number:10\n",
            "The result of addition for-4.5, 10 is5.5\n"
          ]
        }
      ]
    },
    {
      "cell_type": "code",
      "source": [
        "# Working with strings\n",
        "message = \"Hello, world\"\n",
        "length= len(message)\n",
        "uppercase = message.upper()\n",
        "lowercase = message.lower()\n",
        "substring = message[7:12]\n",
        "\n",
        "print(\"Original message:\", message)\n",
        "print(\"The ength is:\",length)\n",
        "print(\"Upper case:\",uppercase)\n",
        "print(\"Lower case:\",lowercase)\n",
        "print(\"Part of the message is:\",substring)"
      ],
      "metadata": {
        "colab": {
          "base_uri": "https://localhost:8080/"
        },
        "id": "CSnvBgszAgJm",
        "outputId": "77523c72-0aea-413b-edb3-8d54053339a4"
      },
      "execution_count": null,
      "outputs": [
        {
          "output_type": "stream",
          "name": "stdout",
          "text": [
            "Original message: Hello, world\n",
            "The ength is: 12\n",
            "Upper case: HELLO, WORLD\n",
            "Lower case: hello, world\n",
            "Part of the message is: world\n"
          ]
        }
      ]
    },
    {
      "cell_type": "code",
      "source": [
        "#Basic input example\n",
        "Last=input(\"Enter the last name,last name:\")\n",
        "First=input(\"Enter the last name,first name:\")\n",
        "\n",
        "print(f\"{Last},{First}\")"
      ],
      "metadata": {
        "colab": {
          "base_uri": "https://localhost:8080/"
        },
        "id": "Y2wsJ7JqC-LZ",
        "outputId": "b95118b1-cce9-47c0-95bc-4c5f2f5c9339"
      },
      "execution_count": null,
      "outputs": [
        {
          "output_type": "stream",
          "name": "stdout",
          "text": [
            "Enter the last name,last name:Sheta\n",
            "Enter the last name,first name:Alaa\n",
            "Sheta,Alaa\n"
          ]
        }
      ]
    },
    {
      "cell_type": "code",
      "source": [
        "# Numeric input example\n",
        "age = int(input(\"Enter your age:\"))\n",
        "print(\"you will be\",age + 1,\"years old next year.\")"
      ],
      "metadata": {
        "colab": {
          "base_uri": "https://localhost:8080/"
        },
        "id": "QCSOKGsnFkpw",
        "outputId": "c8bb27dc-35f1-4cec-9ef9-cab4fb911ea4"
      },
      "execution_count": null,
      "outputs": [
        {
          "output_type": "stream",
          "name": "stdout",
          "text": [
            "Enter your age:55\n",
            "you will be 56 years old next year.\n"
          ]
        }
      ]
    },
    {
      "cell_type": "code",
      "source": [
        "# Calculations with input\n",
        "\n",
        "num1 = float(input(\"Enter a number:\"))\n",
        "num2 = float(input(\"Enter anther number:\"))\n",
        "sum_result = num1 + num2\n",
        "print(\"sum:,sum_result\")"
      ],
      "metadata": {
        "colab": {
          "base_uri": "https://localhost:8080/"
        },
        "id": "j2nsN7tiHpm0",
        "outputId": "49e7aa17-c9fa-46dc-d086-c9ad87f56dcb"
      },
      "execution_count": null,
      "outputs": [
        {
          "output_type": "stream",
          "name": "stdout",
          "text": [
            "Enter a number:12\n",
            "Enter anther number:14\n",
            "sum:,sum_result\n"
          ]
        }
      ]
    },
    {
      "cell_type": "code",
      "source": [
        "# string concatenation with input\n",
        "city = input(\"Enter your city\")\n",
        "country = input(\"Enter your country:\")\n",
        "location = city +\",\" + country\n",
        "print(\"you are in:\",location)"
      ],
      "metadata": {
        "colab": {
          "base_uri": "https://localhost:8080/"
        },
        "id": "0wpo-Kb8Jb7j",
        "outputId": "e3dc50a7-ffe3-4d61-ab44-7a3b2b822752"
      },
      "execution_count": null,
      "outputs": [
        {
          "output_type": "stream",
          "name": "stdout",
          "text": [
            "Enter your cityNew Haven\n",
            "Enter your country:USA\n",
            "you are in: New Haven,USA\n"
          ]
        }
      ]
    },
    {
      "cell_type": "code",
      "source": [
        "#Multiple inputs\n",
        "name,age=input(\"Enteryour name and age sperated by space:\").split()\n",
        "print(f\"my name is {name} and my age is{age}\")"
      ],
      "metadata": {
        "colab": {
          "base_uri": "https://localhost:8080/"
        },
        "id": "SZK3WkL1MV7Z",
        "outputId": "3f8b4812-9e2e-486d-84c8-e773219d1f11"
      },
      "execution_count": null,
      "outputs": [
        {
          "output_type": "stream",
          "name": "stdout",
          "text": [
            "Enteryour name and age sperated by space:Alaa 55\n",
            "my name is Alaa and my age is55\n"
          ]
        }
      ]
    }
  ]
}